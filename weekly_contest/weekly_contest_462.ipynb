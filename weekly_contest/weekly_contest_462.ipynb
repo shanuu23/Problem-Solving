{
 "cells": [
  {
   "cell_type": "markdown",
   "id": "593480d6",
   "metadata": {},
   "source": [
    "Q Flip Square Submatrix Vertically\n",
    "\n",
    "You are given an m x n integer matrix grid, and three integers x, y, and k.\n",
    "\n",
    "The integers x and y represent the row and column indices of the top-left corner of a square submatrix and the integer k represents the size (side length) of the square submatrix.\n",
    "\n",
    "Your task is to flip the submatrix by reversing the order of its rows vertically.\n",
    "\n",
    "Return the updated matrix.\n",
    "\n",
    " \n",
    "\n",
    "Example 1:\n",
    "\n",
    "\n",
    "Input: grid = [[1,2,3,4],[5,6,7,8],[9,10,11,12],[13,14,15,16]], x = 1, y = 0, k = 3\n",
    "\n",
    "Output: [[1,2,3,4],[13,14,15,8],[9,10,11,12],[5,6,7,16]]\n",
    "\n",
    "Explanation:\n",
    "\n",
    "The diagram above shows the grid before and after the transformation.\n",
    "\n",
    "Example 2:\n",
    "\n",
    "​​​​​​​\n",
    "Input: grid = [[3,4,2,3],[2,3,4,2]], x = 0, y = 2, k = 2\n",
    "\n",
    "Output: [[3,4,4,2],[2,3,2,3]]\n",
    "\n",
    "Explanation:\n",
    "\n",
    "The diagram above shows the grid before and after the transformation.\n",
    "\n",
    " \n",
    "\n",
    "Constraints:\n",
    "\n",
    "m == grid.length\n",
    "n == grid[i].length\n",
    "1 <= m, n <= 50\n",
    "1 <= grid[i][j] <= 100\n",
    "0 <= x < m\n",
    "0 <= y < n\n",
    "1 <= k <= min(m - x, n - y)"
   ]
  },
  {
   "cell_type": "code",
   "execution_count": null,
   "id": "d660f047",
   "metadata": {
    "vscode": {
     "languageId": "plaintext"
    }
   },
   "outputs": [],
   "source": [
    "class Solution:\n",
    "    def reverseSubmatrix(self, grid: List[List[int]], x: int, y: int, k: int) -> List[List[int]]:\n",
    "        m = len(grid)\n",
    "        n = len(grid[0])\n",
    "\n",
    "        for i in range(k // 2):\n",
    "            top_row = x + i\n",
    "            bottom_row = x + (k - 1 - i)\n",
    "\n",
    "            for j in range(k):\n",
    "                col = y + j\n",
    "                grid[top_row][col], grid[bottom_row][col] = grid[bottom_row][col], grid[top_row][col]\n",
    "\n",
    "        return grid\n",
    "        "
   ]
  },
  {
   "cell_type": "code",
   "execution_count": null,
   "id": "fd0f84c4",
   "metadata": {
    "vscode": {
     "languageId": "plaintext"
    }
   },
   "outputs": [],
   "source": []
  },
  {
   "cell_type": "code",
   "execution_count": null,
   "metadata": {
    "vscode": {
     "languageId": "plaintext"
    }
   },
   "outputs": [],
   "source": []
  },
  {
   "cell_type": "code",
   "execution_count": null,
   "metadata": {
    "vscode": {
     "languageId": "plaintext"
    }
   },
   "outputs": [],
   "source": []
  },
  {
   "cell_type": "code",
   "execution_count": null,
   "metadata": {
    "vscode": {
     "languageId": "plaintext"
    }
   },
   "outputs": [],
   "source": []
  }
 ],
 "metadata": {
  "language_info": {
   "name": "python"
  }
 },
 "nbformat": 4,
 "nbformat_minor": 5
}
