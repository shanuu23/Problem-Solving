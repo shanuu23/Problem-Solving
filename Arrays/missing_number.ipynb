{
 "cells": [
  {
   "cell_type": "markdown",
   "id": "789847f9",
   "metadata": {},
   "source": [
    "Given an array nums containing n distinct numbers in the range [0, n], return the only number in the range that is missing from the array.\n",
    "\n",
    " \n",
    "\n",
    "Example 1:\n",
    "\n",
    "Input: nums = [3,0,1]\n",
    "\n",
    "Output: 2\n",
    "\n",
    "Explanation:\n",
    "\n",
    "n = 3 since there are 3 numbers, so all numbers are in the range [0,3]. 2 is the missing number in the range since it does not appear in nums.\n",
    "\n",
    "Example 2:\n",
    "\n",
    "Input: nums = [0,1]\n",
    "\n",
    "Output: 2\n",
    "\n",
    "Explanation:\n",
    "\n",
    "n = 2 since there are 2 numbers, so all numbers are in the range [0,2]. 2 is the missing number in the range since it does not appear in nums.\n",
    "\n",
    "Example 3:\n",
    "\n",
    "Input: nums = [9,6,4,2,3,5,7,0,1]\n",
    "\n",
    "Output: 8\n",
    "\n",
    "Explanation:\n",
    "\n",
    "n = 9 since there are 9 numbers, so all numbers are in the range [0,9]. 8 is the missing number in the range since it does not appear in nums.\n",
    "\n",
    " \n",
    " \n",
    "\n",
    " \n",
    "\n",
    " \n",
    "\n",
    "Constraints:\n",
    "\n",
    "n == nums.length\n",
    "1 <= n <= 104\n",
    "0 <= nums[i] <= n\n",
    "All the numbers of nums are unique."
   ]
  },
  {
   "cell_type": "markdown",
   "id": "df3db5bd",
   "metadata": {},
   "source": [
    "### O(n) solution"
   ]
  },
  {
   "cell_type": "code",
   "execution_count": null,
   "id": "993bf587",
   "metadata": {},
   "outputs": [],
   "source": [
    "class Solution:\n",
    "    def missingNumber(self, nums: List[int]) -> int:\n",
    "        \n",
    "        for i in range(len(nums)+1):\n",
    "            if i not in nums:\n",
    "                return i\n",
    "        "
   ]
  },
  {
   "cell_type": "markdown",
   "id": "8eb04e90",
   "metadata": {},
   "source": [
    "### Optimized Solution"
   ]
  },
  {
   "cell_type": "code",
   "execution_count": null,
   "id": "9efc5086",
   "metadata": {},
   "outputs": [],
   "source": [
    "class Solution:\n",
    "    def missingNumber(self, nums: List[int]) -> int:\n",
    "        \n",
    "        output_ = len(nums)\n",
    "        \n",
    "        for i in range(len(nums)):\n",
    "            output_ += (i - nums[i])\n",
    "        return output_"
   ]
  }
 ],
 "metadata": {
  "kernelspec": {
   "display_name": "textsum",
   "language": "python",
   "name": "python3"
  },
  "language_info": {
   "codemirror_mode": {
    "name": "ipython",
    "version": 3
   },
   "file_extension": ".py",
   "mimetype": "text/x-python",
   "name": "python",
   "nbconvert_exporter": "python",
   "pygments_lexer": "ipython3",
   "version": "3.8.19"
  }
 },
 "nbformat": 4,
 "nbformat_minor": 5
}
