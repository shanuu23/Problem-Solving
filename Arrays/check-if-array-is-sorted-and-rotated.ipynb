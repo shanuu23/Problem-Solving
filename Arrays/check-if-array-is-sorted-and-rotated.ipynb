{
 "cells": [
  {
   "cell_type": "markdown",
   "id": "14cbe58d",
   "metadata": {},
   "source": [
    "Given an array nums, return true if the array was originally sorted in non-decreasing order, then rotated some number of positions (including zero). Otherwise, return false.\n",
    "\n",
    "There may be duplicates in the original array.\n",
    "\n",
    "Note: An array A rotated by x positions results in an array B of the same length such that B[i] == A[(i+x) % A.length] for every valid index i.\n",
    "\n",
    " \n",
    "\n",
    "Example 1:\n",
    "\n",
    "Input: nums = [3,4,5,1,2]\n",
    "Output: true\n",
    "Explanation: [1,2,3,4,5] is the original sorted array.\n",
    "You can rotate the array by x = 2 positions to begin on the element of value 3: [3,4,5,1,2].\n",
    "Example 2:\n",
    "\n",
    "Input: nums = [2,1,3,4]\n",
    "Output: false\n",
    "Explanation: There is no sorted array once rotated that can make nums.\n",
    "Example 3:\n",
    "\n",
    "Input: nums = [1,2,3]\n",
    "Output: true\n",
    "Explanation: [1,2,3] is the original sorted array.\n",
    "You can rotate the array by x = 0 positions (i.e. no rotation) to make nums."
   ]
  },
  {
   "cell_type": "code",
   "execution_count": null,
   "id": "fad8716a",
   "metadata": {},
   "outputs": [],
   "source": [
    "class Solution:\n",
    "    def check(self, nums: List[int]) -> bool:\n",
    "        sorted_arr = sorted(nums)\n",
    "        for _ in range(len(nums)):\n",
    "  \n",
    "            nums_0 = nums[0]\n",
    "            nums = nums[1:len(nums)]\n",
    "\n",
    "            nums.append(nums_0)\n",
    "\n",
    "            if nums == sorted_arr:\n",
    "                return True \n",
    "        else:\n",
    "            return False"
   ]
  }
 ],
 "metadata": {
  "kernelspec": {
   "display_name": "textsum",
   "language": "python",
   "name": "python3"
  },
  "language_info": {
   "name": "python",
   "version": "3.8.19"
  }
 },
 "nbformat": 4,
 "nbformat_minor": 5
}
