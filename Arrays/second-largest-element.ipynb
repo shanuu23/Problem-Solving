{
 "cells": [
  {
   "cell_type": "markdown",
   "id": "b8e0c12d",
   "metadata": {},
   "source": [
    "Given an array of positive integers arr[], return the second largest element from the array. If the second largest element doesn't exist then return -1.\n",
    "\n",
    "Note: The second largest element should not be equal to the largest element.\n",
    "\n",
    "Examples:\n",
    "\n",
    "Input: arr[] = [12, 35, 1, 10, 34, 1]\n",
    "Output: 34\n",
    "Explanation: The largest element of the array is 35 and the second largest element is 34.\n",
    "\n",
    "Input: arr[] = [10, 5, 10]\n",
    "Output: 5\n",
    "Explanation: The largest element of the array is 10 and the second largest element is 5.\n",
    "\n",
    "Input: arr[] = [10, 10, 10]\n",
    "Output: -1\n",
    "Explanation: The largest element of the array is 10 and the second largest element does not exist.\n",
    "\n",
    "Constraints:\n",
    "2 ≤ arr.size() ≤ 105\n",
    "1 ≤ arr[i] ≤ 105"
   ]
  },
  {
   "cell_type": "code",
   "execution_count": null,
   "id": "128801b9",
   "metadata": {
    "vscode": {
     "languageId": "plaintext"
    }
   },
   "outputs": [],
   "source": [
    "class Solution:\n",
    "    def getSecondLargest(self, arr):\n",
    "        # Code Here\n",
    "        sorted_arr = sorted(list(set(arr)))\n",
    "        if len(sorted_arr) < 2:\n",
    "            return -1\n",
    "        else:\n",
    "            return sorted_arr[-2]"
   ]
  }
 ],
 "metadata": {
  "language_info": {
   "name": "python"
  }
 },
 "nbformat": 4,
 "nbformat_minor": 5
}
