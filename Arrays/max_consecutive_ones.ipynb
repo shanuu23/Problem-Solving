{
 "cells": [
  {
   "cell_type": "markdown",
   "id": "31c8975f",
   "metadata": {},
   "source": [
    "Given a binary array nums, return the maximum number of consecutive 1's in the array.\n",
    "\n",
    " \n",
    "\n",
    "Example 1:\n",
    "\n",
    "Input: nums = [1,1,0,1,1,1]\n",
    "Output: 3\n",
    "Explanation: The first two digits or the last three digits are consecutive 1s. The maximum number of consecutive 1s is 3.\n",
    "Example 2:\n",
    "\n",
    "Input: nums = [1,0,1,1,0,1]\n",
    "Output: 2\n",
    " \n",
    "\n",
    "Constraints:\n",
    "\n",
    "1 <= nums.length <= 105\n",
    "nums[i] is either 0 or 1."
   ]
  },
  {
   "cell_type": "code",
   "execution_count": null,
   "id": "a8461675",
   "metadata": {
    "vscode": {
     "languageId": "plaintext"
    }
   },
   "outputs": [],
   "source": [
    "class Solution:\n",
    "    def findMaxConsecutiveOnes(self, nums: List[int]) -> int:\n",
    "        count_lst = []\n",
    "        ctr = 0\n",
    "        for i in nums:\n",
    "            if i == 1:\n",
    "                ctr += 1\n",
    "            else:\n",
    "                count_lst.append(ctr)\n",
    "                ctr = 0\n",
    "            continue\n",
    "        if ctr > 0:\n",
    "            count_lst.append(ctr)\n",
    "        return max(count_lst)"
   ]
  }
 ],
 "metadata": {
  "language_info": {
   "name": "python"
  }
 },
 "nbformat": 4,
 "nbformat_minor": 5
}
