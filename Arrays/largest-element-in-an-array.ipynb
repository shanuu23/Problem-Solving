{
 "cells": [
  {
   "cell_type": "markdown",
   "id": "11383798",
   "metadata": {},
   "source": [
    "Given an array arr[]. The task is to find the largest element and return it.\n",
    "\n",
    "Examples:\n",
    "\n",
    "Input: arr[] = [1, 8, 7, 56, 90]\n",
    "Output: 90\n",
    "\n",
    "Explanation: The largest element of the given array is 90.\n",
    "\n",
    "Input: arr[] = [5, 5, 5, 5]\n",
    "Output: 5\n",
    "\n",
    "Explanation: The largest element of the given array is 5.\n",
    "\n",
    "Input: arr[] = [10]\n",
    "Output: 10\n",
    "\n",
    "Explanation: There is only one element which is the largest.\n",
    "\n",
    "Constraints:\n",
    "1 <= arr.size()<= 106\n",
    "0 <= arr[i] <= 106"
   ]
  },
  {
   "cell_type": "code",
   "execution_count": null,
   "id": "ea7da9eb",
   "metadata": {
    "vscode": {
     "languageId": "plaintext"
    }
   },
   "outputs": [],
   "source": [
    "class Solution:\n",
    "    def largest(self, arr):\n",
    "        # code here\n",
    "        largest = max(arr)\n",
    "        for i in arr:\n",
    "            if i == largest:\n",
    "                return i"
   ]
  }
 ],
 "metadata": {
  "language_info": {
   "name": "python"
  }
 },
 "nbformat": 4,
 "nbformat_minor": 5
}
